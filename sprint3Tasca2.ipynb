{
 "cells": [
  {
   "cell_type": "markdown",
   "id": "b44d45c7",
   "metadata": {},
   "source": [
    "## Tasca 2: Estructura de dades - Eduardo Baffi"
   ]
  },
  {
   "cell_type": "code",
   "execution_count": 4,
   "id": "b22184b3",
   "metadata": {},
   "outputs": [
    {
     "name": "stdout",
     "output_type": "stream",
     "text": [
      "[['January', 'February', 'March'], ['April', 'May', 'June'], ['July', 'August', 'September'], ['October', 'November', 'December']]\n"
     ]
    }
   ],
   "source": [
    "\n",
    "# - Exercici 1\n",
    "# Crea una llista que agrupi els mesos de l’any en trimestres (1T: Gener, Febrer i Març, 2T: Abril, Maig, Juny...), és a dir, una llista amb 4 llistes dins.\n",
    "\n",
    "months = [['January','February','March'],['April','May','June'],['July','August','September'],['October','November','December']]\n",
    "print(months)"
   ]
  },
  {
   "cell_type": "code",
   "execution_count": 6,
   "id": "88d4398d",
   "metadata": {},
   "outputs": [
    {
     "name": "stdout",
     "output_type": "stream",
     "text": [
      "[['January', 'February', 'March'], ['April', 'May', 'June'], ['July', 'August', 'September'], ['October', 'November', 'December']]\n",
      "February\n",
      "['January', 'February', 'March']\n",
      "September October\n"
     ]
    }
   ],
   "source": [
    "# - Exercici 2\n",
    "\n",
    "months = [['January','February','March'],['April','May','June'],['July','August','September'],['October','November','December']]\n",
    "print(months)\n",
    "\n",
    "# Crea un codi que et permeti accedir a:\n",
    "\n",
    "# -El segon mes del primer trimestre\n",
    "m = months[0][1]\n",
    "print(m)\n",
    "\n",
    "# -Els mesos del primer trimestre\n",
    "print(months[0])\n",
    "\n",
    "# -Setembre i octubre\n",
    "print(months[2][2],months[3][0])"
   ]
  },
  {
   "cell_type": "code",
   "execution_count": 22,
   "id": "0521d425",
   "metadata": {},
   "outputs": [
    {
     "name": "stdout",
     "output_type": "stream",
     "text": [
      "La lista definida es: [['January', 'February', 'March'], ['April', 'May', 'June'], ['July', 'August', 'September'], ['October', 'November', 'December']]\n",
      "El segon mes del primer trimestre: February\n",
      "Els mesos del primer trimestre: ['January', 'February', 'March']\n",
      "Los meses September y October están en la lista\n"
     ]
    }
   ],
   "source": [
    "# - Exercici 2 - Version 2*\n",
    "# *Hice otra version del exercicio 2 para practicar un poco.\n",
    "\n",
    "months = [['January','February','March'],['April','May','June'],['July','August','September'],['October','November','December']]\n",
    "print(\"La lista definida es: \"+ str(months))\n",
    "\n",
    "# Crea un codi que et permeti accedir a:\n",
    "\n",
    "# -El segon mes del primer trimestre\n",
    "m = str(months[0][1])\n",
    "print(\"El segon mes del primer trimestre: \"+ m)\n",
    "\n",
    "# -Els mesos del primer trimestre\n",
    "trim1 = str(months[0])\n",
    "print(\"Els mesos del primer trimestre: \"+ trim1)\n",
    "\n",
    "# -Setembre i octubre\n",
    "set = str(months[2][2])\n",
    "oct = str(months[3][0])\n",
    "print(\"Los meses \"+ set + \" y \" + oct + \" están en la lista\")"
   ]
  },
  {
   "cell_type": "code",
   "execution_count": 144,
   "id": "897e268a",
   "metadata": {},
   "outputs": [
    {
     "name": "stdout",
     "output_type": "stream",
     "text": [
      "[10, 0, 6, 4, 1, 0, 10, 0, 10, 7, 6, 6, 9, 10, 0, 6, 7, 3, 1, 1]\n",
      "Hay 20 números en la lista.\n",
      "El número 3 aparece 1 veces.\n",
      "El número 3 y 4 aparecen 2 veces.\n",
      "Veces en que aparecen los números 3 y 4 al mismo tiempo: 1\n",
      "10\n",
      "El número más grande es: 10\n",
      "Los 3 números má pequeños son: [0, 0, 0]\n",
      "Si los numeros repetidos son excluídos, los 3 más pequenõs son [0, 1, 3]\n",
      "Los 3 más pequenõs sin repetición son (usando Python Set): [0, 1, 3]\n",
      "El rango de la lista es 10\n"
     ]
    }
   ],
   "source": [
    "# - Exercici 3\n",
    "# Crea una llista amb nombres desordenats i respon a les següents preguntes:\n",
    "\n",
    "import random\n",
    "listNum = [random.randint(0, 10) for _ in range(20)]\n",
    "print(listNum)\n",
    "\n",
    "# a.Quants números hi ha?\n",
    "\n",
    "print(\"Hay \" + str(len(listNum)) + \" números en la lista.\")\n",
    "\n",
    "\n",
    "# b.Quantes vegades apareix el número 3\n",
    "\n",
    "num3 = listNum.count(3)\n",
    "print(\"El número 3 aparece \" + str(num3) + \" veces.\")\n",
    "\n",
    "\n",
    "# c.Quantes vegades apareixen els nombres 3 i 4?\n",
    "\n",
    "num3 = listNum.count(3)\n",
    "num4 = listNum.count(4)\n",
    "\n",
    "print(\"El número 3 y 4 aparecen \" + str(num3+num4) + \" veces.\")   # Solución del ejercicio\n",
    "\n",
    "if num3>=num4:\n",
    "    print(\"Veces en que aparecen los números 3 y 4 al mismo tiempo: \" + str(num4))  # Solución adicional para practicar\n",
    "else:\n",
    "    print(\"Veces en que aparecen los números 3 y 4 al mismo tiempo: \" + str(num3))\n",
    "    \n",
    "\n",
    "\n",
    "# d.Quin és el número més gran?\n",
    "\n",
    "listNum.sort()\n",
    "print(listNum[(len(listNum)-1)]) # Primera solución\n",
    "\n",
    "print(\"El número más grande es: \" + str(max(listNum))) # Otra forma de soluión\n",
    "\n",
    "\n",
    "# e.Quins són els 3 números més petits?\n",
    "\n",
    "min3 = str(listNum[0:3])     # Es necesario usar el comando listNum.sort() antes de usar este comando. Ya está hecho en la pregunta anterior\n",
    "print(\"Los 3 números má pequeños son: \" + min3)  # Lista con repeticiones\n",
    "\n",
    "small = [listNum[0]]      # Solución 1 - Lista sin repeticiones\n",
    "i=0\n",
    "while len(small)<3:\n",
    "    if listNum[i+1] == listNum[i]:\n",
    "        i += 1\n",
    "    else:\n",
    "        small.append(listNum[i+1])\n",
    "        i += 1\n",
    "print(\"Si los numeros repetidos son excluídos, los 3 más pequenõs son \" + str(small))\n",
    "\n",
    "setNum = {*listNum}       # Solución 2 - Lisa sin repeiciones usando set\n",
    "listNoRepeat = [*setNum]\n",
    "listNoRepeat.sort()\n",
    "print(\"Los 3 más pequenõs sin repetición son (usando Python Set): \" + str(listNoRepeat[0:3]))\n",
    "\n",
    "\n",
    "# f.Quin és el rang d’aquesta llista?\n",
    "print(\"El rango de la lista es \" + str(max(listNum)-min(listNum)))\n",
    "\n"
   ]
  },
  {
   "cell_type": "code",
   "execution_count": 180,
   "id": "7e8a2cb4",
   "metadata": {},
   "outputs": [
    {
     "name": "stdout",
     "output_type": "stream",
     "text": [
      "{'Pomes': {'Qty': 5, '€': 2.42}, 'Peres': {'Qty': 3, '€': 0.66}}\n",
      "{'Pomes': {'Qty': 5, '€': 2.42}, 'Peres': {'Qty': 3, '€': 0.66}, 'Mangos': {'Qty': 1, '€': 1.15}}\n",
      "Las peras han costado: 1.98\n",
      "Total de frutas que hemos comprado: 9\n",
      "Pomes\n",
      "Fruta más cara: Pomes\n"
     ]
    }
   ],
   "source": [
    "# - Exercici 4\n",
    "# Crea un diccionari de la següent forma i respon a les preguntes:\n",
    "# compra = { \"Pomes\" : {\"Qty\": 5, \"€\": 0.42}, \"Peres\" : {\"Qty\": 3, \"€\": 0.66} }\n",
    "\n",
    "compra = { \"Pomes\" : {\"Qty\": 5, \"€\": 0.42}, \"Peres\" : {\"Qty\": 3, \"€\": 0.66} }\n",
    "print(compra)\n",
    "\n",
    "# a.Afegeix alguna fruita més\n",
    "\n",
    "compra[\"Mangos\"] = {\"Qty\": 1, \"€\": 1.15}\n",
    "print(compra)\n",
    "\n",
    "\n",
    "# b.Quant han costat les peres en total?\n",
    "\n",
    "totalPeres = (compra['Peres']['Qty']*compra['Peres']['€'])\n",
    "print(\"Las peras han costado: \" + str(totalPeres))\n",
    "\n",
    "\n",
    "# c.Quantes fruites hem comprat en total?\n",
    "qtyFruits = (compra['Pomes']['Qty']+compra['Peres']['Qty']+compra['Mangos']['Qty'])\n",
    "print(\"Total de frutas que hemos comprado: \" + str(qtyFruits))\n",
    "\n",
    "# d.Quina és la fruita més cara?\n",
    "\n",
    "for key, value in compra.items():        # Solución 1 - Loop\n",
    "    if maxPrice < int(value['€']):\n",
    "        maxPrice = int(value['€'])\n",
    "        priceyFruit = key\n",
    "print(str(priceyFruit))\n",
    "\n",
    "expensiveFruit = max(compra, key=lambda value:compra[value]['€'])  # Solución 2 \n",
    "print(\"Fruta más cara: \" + str(expensiveFruit))\n",
    "\n"
   ]
  }
 ],
 "metadata": {
  "kernelspec": {
   "display_name": "Python 3",
   "language": "python",
   "name": "python3"
  },
  "language_info": {
   "codemirror_mode": {
    "name": "ipython",
    "version": 3
   },
   "file_extension": ".py",
   "mimetype": "text/x-python",
   "name": "python",
   "nbconvert_exporter": "python",
   "pygments_lexer": "ipython3",
   "version": "3.8.5"
  },
  "latex_envs": {
   "LaTeX_envs_menu_present": true,
   "autoclose": false,
   "autocomplete": true,
   "bibliofile": "biblio.bib",
   "cite_by": "apalike",
   "current_citInitial": 1,
   "eqLabelWithNumbers": true,
   "eqNumInitial": 1,
   "hotkeys": {
    "equation": "Ctrl-E",
    "itemize": "Ctrl-I"
   },
   "labels_anchors": false,
   "latex_user_defs": false,
   "report_style_numbering": false,
   "user_envs_cfg": false
  }
 },
 "nbformat": 4,
 "nbformat_minor": 5
}
